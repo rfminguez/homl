{
 "cells": [
  {
   "cell_type": "code",
   "execution_count": 4,
   "metadata": {},
   "outputs": [],
   "source": [
    "import pandas as pd\n",
    "import os\n",
    "import matplotlib.pyplot as plt"
   ]
  },
  {
   "cell_type": "code",
   "execution_count": 5,
   "metadata": {},
   "outputs": [],
   "source": [
    "HOUSING_PATH = os.path.join(\"datasets\", \"housing\")\n",
    "\n",
    "def load_housing_data(housing_path = HOUSING_PATH):\n",
    "    csv_path = os.path.join(housing_path, \"housing.csv\")\n",
    "    return pd.read_csv(csv_path)"
   ]
  },
  {
   "cell_type": "code",
   "execution_count": 6,
   "metadata": {},
   "outputs": [],
   "source": [
    "housing = load_housing_data()"
   ]
  },
  {
   "cell_type": "markdown",
   "metadata": {},
   "source": [
    "# 1) Análisis preliminar de los datos"
   ]
  },
  {
   "cell_type": "code",
   "execution_count": 7,
   "metadata": {},
   "outputs": [
    {
     "data": {
      "text/html": [
       "<div>\n",
       "<style scoped>\n",
       "    .dataframe tbody tr th:only-of-type {\n",
       "        vertical-align: middle;\n",
       "    }\n",
       "\n",
       "    .dataframe tbody tr th {\n",
       "        vertical-align: top;\n",
       "    }\n",
       "\n",
       "    .dataframe thead th {\n",
       "        text-align: right;\n",
       "    }\n",
       "</style>\n",
       "<table border=\"1\" class=\"dataframe\">\n",
       "  <thead>\n",
       "    <tr style=\"text-align: right;\">\n",
       "      <th></th>\n",
       "      <th>longitude</th>\n",
       "      <th>latitude</th>\n",
       "      <th>housing_median_age</th>\n",
       "      <th>total_rooms</th>\n",
       "      <th>total_bedrooms</th>\n",
       "      <th>population</th>\n",
       "      <th>households</th>\n",
       "      <th>median_income</th>\n",
       "      <th>median_house_value</th>\n",
       "      <th>ocean_proximity</th>\n",
       "    </tr>\n",
       "  </thead>\n",
       "  <tbody>\n",
       "    <tr>\n",
       "      <th>0</th>\n",
       "      <td>-122.23</td>\n",
       "      <td>37.88</td>\n",
       "      <td>41.0</td>\n",
       "      <td>880.0</td>\n",
       "      <td>129.0</td>\n",
       "      <td>322.0</td>\n",
       "      <td>126.0</td>\n",
       "      <td>8.3252</td>\n",
       "      <td>452600.0</td>\n",
       "      <td>NEAR BAY</td>\n",
       "    </tr>\n",
       "    <tr>\n",
       "      <th>1</th>\n",
       "      <td>-122.22</td>\n",
       "      <td>37.86</td>\n",
       "      <td>21.0</td>\n",
       "      <td>7099.0</td>\n",
       "      <td>1106.0</td>\n",
       "      <td>2401.0</td>\n",
       "      <td>1138.0</td>\n",
       "      <td>8.3014</td>\n",
       "      <td>358500.0</td>\n",
       "      <td>NEAR BAY</td>\n",
       "    </tr>\n",
       "    <tr>\n",
       "      <th>2</th>\n",
       "      <td>-122.24</td>\n",
       "      <td>37.85</td>\n",
       "      <td>52.0</td>\n",
       "      <td>1467.0</td>\n",
       "      <td>190.0</td>\n",
       "      <td>496.0</td>\n",
       "      <td>177.0</td>\n",
       "      <td>7.2574</td>\n",
       "      <td>352100.0</td>\n",
       "      <td>NEAR BAY</td>\n",
       "    </tr>\n",
       "    <tr>\n",
       "      <th>3</th>\n",
       "      <td>-122.25</td>\n",
       "      <td>37.85</td>\n",
       "      <td>52.0</td>\n",
       "      <td>1274.0</td>\n",
       "      <td>235.0</td>\n",
       "      <td>558.0</td>\n",
       "      <td>219.0</td>\n",
       "      <td>5.6431</td>\n",
       "      <td>341300.0</td>\n",
       "      <td>NEAR BAY</td>\n",
       "    </tr>\n",
       "    <tr>\n",
       "      <th>4</th>\n",
       "      <td>-122.25</td>\n",
       "      <td>37.85</td>\n",
       "      <td>52.0</td>\n",
       "      <td>1627.0</td>\n",
       "      <td>280.0</td>\n",
       "      <td>565.0</td>\n",
       "      <td>259.0</td>\n",
       "      <td>3.8462</td>\n",
       "      <td>342200.0</td>\n",
       "      <td>NEAR BAY</td>\n",
       "    </tr>\n",
       "  </tbody>\n",
       "</table>\n",
       "</div>"
      ],
      "text/plain": [
       "   longitude  latitude  housing_median_age  total_rooms  total_bedrooms  \\\n",
       "0    -122.23     37.88                41.0        880.0           129.0   \n",
       "1    -122.22     37.86                21.0       7099.0          1106.0   \n",
       "2    -122.24     37.85                52.0       1467.0           190.0   \n",
       "3    -122.25     37.85                52.0       1274.0           235.0   \n",
       "4    -122.25     37.85                52.0       1627.0           280.0   \n",
       "\n",
       "   population  households  median_income  median_house_value ocean_proximity  \n",
       "0       322.0       126.0         8.3252            452600.0        NEAR BAY  \n",
       "1      2401.0      1138.0         8.3014            358500.0        NEAR BAY  \n",
       "2       496.0       177.0         7.2574            352100.0        NEAR BAY  \n",
       "3       558.0       219.0         5.6431            341300.0        NEAR BAY  \n",
       "4       565.0       259.0         3.8462            342200.0        NEAR BAY  "
      ]
     },
     "execution_count": 7,
     "metadata": {},
     "output_type": "execute_result"
    }
   ],
   "source": [
    "housing.head()"
   ]
  },
  {
   "cell_type": "markdown",
   "metadata": {},
   "source": [
    "## Quick description of the data"
   ]
  },
  {
   "cell_type": "code",
   "execution_count": 8,
   "metadata": {},
   "outputs": [
    {
     "name": "stdout",
     "output_type": "stream",
     "text": [
      "<class 'pandas.core.frame.DataFrame'>\n",
      "RangeIndex: 20640 entries, 0 to 20639\n",
      "Data columns (total 10 columns):\n",
      " #   Column              Non-Null Count  Dtype  \n",
      "---  ------              --------------  -----  \n",
      " 0   longitude           20640 non-null  float64\n",
      " 1   latitude            20640 non-null  float64\n",
      " 2   housing_median_age  20640 non-null  float64\n",
      " 3   total_rooms         20640 non-null  float64\n",
      " 4   total_bedrooms      20433 non-null  float64\n",
      " 5   population          20640 non-null  float64\n",
      " 6   households          20640 non-null  float64\n",
      " 7   median_income       20640 non-null  float64\n",
      " 8   median_house_value  20640 non-null  float64\n",
      " 9   ocean_proximity     20640 non-null  object \n",
      "dtypes: float64(9), object(1)\n",
      "memory usage: 1.6+ MB\n"
     ]
    }
   ],
   "source": [
    "housing.info()"
   ]
  },
  {
   "cell_type": "markdown",
   "metadata": {},
   "source": [
    "**Ojo**: fíjate que el campo *total_bedrooms* tiene nulos"
   ]
  },
  {
   "cell_type": "markdown",
   "metadata": {},
   "source": [
    "## Summary of numerical attributes"
   ]
  },
  {
   "cell_type": "code",
   "execution_count": 9,
   "metadata": {},
   "outputs": [
    {
     "data": {
      "text/html": [
       "<div>\n",
       "<style scoped>\n",
       "    .dataframe tbody tr th:only-of-type {\n",
       "        vertical-align: middle;\n",
       "    }\n",
       "\n",
       "    .dataframe tbody tr th {\n",
       "        vertical-align: top;\n",
       "    }\n",
       "\n",
       "    .dataframe thead th {\n",
       "        text-align: right;\n",
       "    }\n",
       "</style>\n",
       "<table border=\"1\" class=\"dataframe\">\n",
       "  <thead>\n",
       "    <tr style=\"text-align: right;\">\n",
       "      <th></th>\n",
       "      <th>longitude</th>\n",
       "      <th>latitude</th>\n",
       "      <th>housing_median_age</th>\n",
       "      <th>total_rooms</th>\n",
       "      <th>total_bedrooms</th>\n",
       "      <th>population</th>\n",
       "      <th>households</th>\n",
       "      <th>median_income</th>\n",
       "      <th>median_house_value</th>\n",
       "    </tr>\n",
       "  </thead>\n",
       "  <tbody>\n",
       "    <tr>\n",
       "      <th>count</th>\n",
       "      <td>20640.000000</td>\n",
       "      <td>20640.000000</td>\n",
       "      <td>20640.000000</td>\n",
       "      <td>20640.000000</td>\n",
       "      <td>20433.000000</td>\n",
       "      <td>20640.000000</td>\n",
       "      <td>20640.000000</td>\n",
       "      <td>20640.000000</td>\n",
       "      <td>20640.000000</td>\n",
       "    </tr>\n",
       "    <tr>\n",
       "      <th>mean</th>\n",
       "      <td>-119.569704</td>\n",
       "      <td>35.631861</td>\n",
       "      <td>28.639486</td>\n",
       "      <td>2635.763081</td>\n",
       "      <td>537.870553</td>\n",
       "      <td>1425.476744</td>\n",
       "      <td>499.539680</td>\n",
       "      <td>3.870671</td>\n",
       "      <td>206855.816909</td>\n",
       "    </tr>\n",
       "    <tr>\n",
       "      <th>std</th>\n",
       "      <td>2.003532</td>\n",
       "      <td>2.135952</td>\n",
       "      <td>12.585558</td>\n",
       "      <td>2181.615252</td>\n",
       "      <td>421.385070</td>\n",
       "      <td>1132.462122</td>\n",
       "      <td>382.329753</td>\n",
       "      <td>1.899822</td>\n",
       "      <td>115395.615874</td>\n",
       "    </tr>\n",
       "    <tr>\n",
       "      <th>min</th>\n",
       "      <td>-124.350000</td>\n",
       "      <td>32.540000</td>\n",
       "      <td>1.000000</td>\n",
       "      <td>2.000000</td>\n",
       "      <td>1.000000</td>\n",
       "      <td>3.000000</td>\n",
       "      <td>1.000000</td>\n",
       "      <td>0.499900</td>\n",
       "      <td>14999.000000</td>\n",
       "    </tr>\n",
       "    <tr>\n",
       "      <th>25%</th>\n",
       "      <td>-121.800000</td>\n",
       "      <td>33.930000</td>\n",
       "      <td>18.000000</td>\n",
       "      <td>1447.750000</td>\n",
       "      <td>296.000000</td>\n",
       "      <td>787.000000</td>\n",
       "      <td>280.000000</td>\n",
       "      <td>2.563400</td>\n",
       "      <td>119600.000000</td>\n",
       "    </tr>\n",
       "    <tr>\n",
       "      <th>50%</th>\n",
       "      <td>-118.490000</td>\n",
       "      <td>34.260000</td>\n",
       "      <td>29.000000</td>\n",
       "      <td>2127.000000</td>\n",
       "      <td>435.000000</td>\n",
       "      <td>1166.000000</td>\n",
       "      <td>409.000000</td>\n",
       "      <td>3.534800</td>\n",
       "      <td>179700.000000</td>\n",
       "    </tr>\n",
       "    <tr>\n",
       "      <th>75%</th>\n",
       "      <td>-118.010000</td>\n",
       "      <td>37.710000</td>\n",
       "      <td>37.000000</td>\n",
       "      <td>3148.000000</td>\n",
       "      <td>647.000000</td>\n",
       "      <td>1725.000000</td>\n",
       "      <td>605.000000</td>\n",
       "      <td>4.743250</td>\n",
       "      <td>264725.000000</td>\n",
       "    </tr>\n",
       "    <tr>\n",
       "      <th>max</th>\n",
       "      <td>-114.310000</td>\n",
       "      <td>41.950000</td>\n",
       "      <td>52.000000</td>\n",
       "      <td>39320.000000</td>\n",
       "      <td>6445.000000</td>\n",
       "      <td>35682.000000</td>\n",
       "      <td>6082.000000</td>\n",
       "      <td>15.000100</td>\n",
       "      <td>500001.000000</td>\n",
       "    </tr>\n",
       "  </tbody>\n",
       "</table>\n",
       "</div>"
      ],
      "text/plain": [
       "          longitude      latitude  housing_median_age   total_rooms  \\\n",
       "count  20640.000000  20640.000000        20640.000000  20640.000000   \n",
       "mean    -119.569704     35.631861           28.639486   2635.763081   \n",
       "std        2.003532      2.135952           12.585558   2181.615252   \n",
       "min     -124.350000     32.540000            1.000000      2.000000   \n",
       "25%     -121.800000     33.930000           18.000000   1447.750000   \n",
       "50%     -118.490000     34.260000           29.000000   2127.000000   \n",
       "75%     -118.010000     37.710000           37.000000   3148.000000   \n",
       "max     -114.310000     41.950000           52.000000  39320.000000   \n",
       "\n",
       "       total_bedrooms    population    households  median_income  \\\n",
       "count    20433.000000  20640.000000  20640.000000   20640.000000   \n",
       "mean       537.870553   1425.476744    499.539680       3.870671   \n",
       "std        421.385070   1132.462122    382.329753       1.899822   \n",
       "min          1.000000      3.000000      1.000000       0.499900   \n",
       "25%        296.000000    787.000000    280.000000       2.563400   \n",
       "50%        435.000000   1166.000000    409.000000       3.534800   \n",
       "75%        647.000000   1725.000000    605.000000       4.743250   \n",
       "max       6445.000000  35682.000000   6082.000000      15.000100   \n",
       "\n",
       "       median_house_value  \n",
       "count        20640.000000  \n",
       "mean        206855.816909  \n",
       "std         115395.615874  \n",
       "min          14999.000000  \n",
       "25%         119600.000000  \n",
       "50%         179700.000000  \n",
       "75%         264725.000000  \n",
       "max         500001.000000  "
      ]
     },
     "execution_count": 9,
     "metadata": {},
     "output_type": "execute_result"
    }
   ],
   "source": [
    "housing.describe()"
   ]
  },
  {
   "cell_type": "markdown",
   "metadata": {},
   "source": [
    "Fíjate en los percentiles del *housing_median_age*. El 25% de las viviendas tienen menos de 18 años, el 50% menos de 29 y el 75% menos de 37. Nota: la mediana es el cuartil 50%."
   ]
  },
  {
   "cell_type": "markdown",
   "metadata": {},
   "source": [
    "## Valores del atributo categórico \"ocean_proximity\""
   ]
  },
  {
   "cell_type": "code",
   "execution_count": 10,
   "metadata": {},
   "outputs": [
    {
     "data": {
      "text/plain": [
       "<1H OCEAN     9136\n",
       "INLAND        6551\n",
       "NEAR OCEAN    2658\n",
       "NEAR BAY      2290\n",
       "ISLAND           5\n",
       "Name: ocean_proximity, dtype: int64"
      ]
     },
     "execution_count": 10,
     "metadata": {},
     "output_type": "execute_result"
    }
   ],
   "source": [
    "housing[\"ocean_proximity\"].value_counts()"
   ]
  },
  {
   "cell_type": "markdown",
   "metadata": {},
   "source": [
    "## Plotea histogramas\n",
    "Para ver la distribución de los datos numéricos.\n",
    "\n",
    "El método *.hist()* plotea todos los datos numéricos y nos ahorra tener que hacerlo uno a uno."
   ]
  },
  {
   "cell_type": "code",
   "execution_count": 11,
   "metadata": {},
   "outputs": [
    {
     "data": {
      "image/png": "[encoded data removed]",
      "text/plain": [
       "<Figure size 1440x1080 with 9 Axes>"
      ]
     },
     "metadata": {
      "needs_background": "light"
     },
     "output_type": "display_data"
    }
   ],
   "source": [
    "%matplotlib inline\n",
    "housing.hist(bins = 50, figsize = (20, 15))\n",
    "plt.show;"
   ]
  },
  {
   "cell_type": "markdown",
   "metadata": {},
   "source": [
    "**Nota**\n",
    "\n",
    "Fíjate en la línea vertical en el gráfico de *median_house_value*. Esta línea sale porque el set de datos tiene un techo de sueldos en los $500.000 a partir del cual se acumulan.\n",
    "\n",
    "Lo mismo pasa en *housing_median_age*. Con el techo de edad de la casa en 50 años."
   ]
  },
  {
   "cell_type": "markdown",
   "metadata": {},
   "source": [
    "# Vamos allá"
   ]
  },
  {
   "cell_type": "code",
   "execution_count": 12,
   "metadata": {},
   "outputs": [],
   "source": [
    "from sklearn.model_selection import StratifiedShuffleSplit\n",
    "import numpy as np"
   ]
  },
  {
   "cell_type": "markdown",
   "metadata": {},
   "source": [
    "## Creo una categoría *median income*\n",
    "Porque los jefes nos dicen que separar los datos así es súuuper importante para ellos o algo así."
   ]
  },
  {
   "cell_type": "code",
   "execution_count": 13,
   "metadata": {},
   "outputs": [
    {
     "data": {
      "text/plain": [
       "<AxesSubplot:>"
      ]
     },
     "execution_count": 13,
     "metadata": {},
     "output_type": "execute_result"
    },
    {
     "data": {
      "image/png": "[encoded data removed]",
      "text/plain": [
       "<Figure size 432x288 with 1 Axes>"
      ]
     },
     "metadata": {
      "needs_background": "light"
     },
     "output_type": "display_data"
    }
   ],
   "source": [
    "housing[\"income_cat\"] = pd.cut(housing[\"median_income\"], \n",
    "                               bins = [0, 1.5, 3.0, 4.5, 6, np.inf], \n",
    "                               labels = [1, 2, 3, 4, 5])\n",
    "\n",
    "housing[\"income_cat\"].hist()"
   ]
  },
  {
   "cell_type": "markdown",
   "metadata": {},
   "source": [
    "## Separar un sample con datos de test\n",
    "Fíjate que la distribución de *income_cat* no es uniforme. \n",
    "\n",
    "Si hacemos un un *train_test_split* facilón podemos quedarnos con demasiados datos de las categorías más grandes y caeríamos en un *selection bias*.\n",
    "\n",
    "Por eso usamos *StratifiedShuffleSplit*. Para que separe datos de test de datos de entrenamiento de forma proporcional a cada categoría de *income_cat*.\n",
    "\n",
    "**Importante** Este conjunto de datos lo separamos y no lo tocamos hasta que terminemos todo el proceso. \n",
    "\n",
    "Estos datos los utilizaremos al final cuando tengamos el modelo ya entrenado para evaluar la precisión de las predicciones.\n",
    "\n",
    "Aunque se llamen datos de test estos datos son los X_test e y_test que usamos en el proceso de evaluación de modelos de machine learning. Son unos datos aislados que usaremos al final del todo.  "
   ]
  },
  {
   "cell_type": "code",
   "execution_count": 14,
   "metadata": {},
   "outputs": [],
   "source": [
    "split = StratifiedShuffleSplit(n_splits = 1, test_size = 0.2, random_state = 42)\n",
    "\n",
    "for train_index, test_index in split.split(housing, housing[\"income_cat\"]):\n",
    "    strat_train_set = housing.loc[train_index]\n",
    "    strat_test_set = housing.loc[test_index]"
   ]
  },
  {
   "cell_type": "markdown",
   "metadata": {},
   "source": [
    "### Esta es la proporción de datos de las distintas categorías del set de test:"
   ]
  },
  {
   "cell_type": "code",
   "execution_count": 15,
   "metadata": {},
   "outputs": [
    {
     "data": {
      "text/plain": [
       "3    0.350533\n",
       "2    0.318798\n",
       "4    0.176357\n",
       "5    0.114583\n",
       "1    0.039729\n",
       "Name: income_cat, dtype: float64"
      ]
     },
     "execution_count": 15,
     "metadata": {},
     "output_type": "execute_result"
    }
   ],
   "source": [
    "strat_test_set[\"income_cat\"].value_counts() / len(strat_test_set)"
   ]
  },
  {
   "cell_type": "markdown",
   "metadata": {},
   "source": [
    "### Y esta la proporción del set completo:\n",
    "Fíjate que se parecen mucho"
   ]
  },
  {
   "cell_type": "code",
   "execution_count": 16,
   "metadata": {},
   "outputs": [
    {
     "data": {
      "text/plain": [
       "3    0.350581\n",
       "2    0.318847\n",
       "4    0.176308\n",
       "5    0.114438\n",
       "1    0.039826\n",
       "Name: income_cat, dtype: float64"
      ]
     },
     "execution_count": 16,
     "metadata": {},
     "output_type": "execute_result"
    }
   ],
   "source": [
    "housing[\"income_cat\"].value_counts() / len(housing)"
   ]
  },
  {
   "cell_type": "markdown",
   "metadata": {},
   "source": [
    "## Una vez divididos los datos quito *median income*\n",
    "Ya no la necesito para nada en los sets de test y de entrenamiento."
   ]
  },
  {
   "cell_type": "code",
   "execution_count": 17,
   "metadata": {},
   "outputs": [],
   "source": [
    "for set_ in (strat_train_set, strat_test_set):\n",
    "    set_.drop(\"income_cat\", axis = 1, inplace = True)"
   ]
  },
  {
   "cell_type": "markdown",
   "metadata": {},
   "source": [
    "## Visualizaciones"
   ]
  },
  {
   "cell_type": "markdown",
   "metadata": {},
   "source": [
    "### Sample Set\n",
    "Para entrar más en detalle en el análisis de los datos se coge un set de datos reducido pero representativo.\n",
    "\n",
    "En un set de datos muy grande cogemos solo una parte de los datos.\n",
    "\n",
    "Como este set es pequeño, lo usamos todo entero."
   ]
  },
  {
   "cell_type": "code",
   "execution_count": 18,
   "metadata": {},
   "outputs": [],
   "source": [
    "housing = strat_train_set.copy()"
   ]
  },
  {
   "cell_type": "markdown",
   "metadata": {},
   "source": [
    "### Scatter Plot\n",
    "**Nota**\n",
    "\n",
    "Los datos son de el estado de California en los USA.\n",
    "\n",
    "Al hacer el scatter plot por Latitud y Longitud vemos el perfil del estado y las áreas con mayor densidad."
   ]
  },
  {
   "cell_type": "code",
   "execution_count": 19,
   "metadata": {},
   "outputs": [
    {
     "data": {
      "text/plain": [
       "<AxesSubplot:xlabel='longitude', ylabel='latitude'>"
      ]
     },
     "execution_count": 19,
     "metadata": {},
     "output_type": "execute_result"
    },
    {
     "data": {
      "image/png": "[encoded data removed]",
      "text/plain": [
       "<Figure size 432x288 with 1 Axes>"
      ]
     },
     "metadata": {
      "needs_background": "light"
     },
     "output_type": "display_data"
    }
   ],
   "source": [
    "housing.plot(kind = \"scatter\", x = \"longitude\", y = \"latitude\", alpha = 0.1)"
   ]
  },
  {
   "cell_type": "markdown",
   "metadata": {},
   "source": [
    "### Scatter plot con datos de Población y Precio\n",
    "**población**: opción *s*. El radio de cada círculo representa la población.\n",
    "\n",
    "**precio**: opción *c*. El color representa el precio medio (más rojo, más alto)."
   ]
  },
  {
   "cell_type": "code",
   "execution_count": 20,
   "metadata": {},
   "outputs": [
    {
     "data": {
      "text/plain": [
       "<matplotlib.legend.Legend at 0x7f83802785e0>"
      ]
     },
     "execution_count": 20,
     "metadata": {},
     "output_type": "execute_result"
    },
    {
     "data": {
      "image/png": "[encoded data removed]",
      "text/plain": [
       "<Figure size 720x504 with 2 Axes>"
      ]
     },
     "metadata": {
      "needs_background": "light"
     },
     "output_type": "display_data"
    }
   ],
   "source": [
    "housing.plot(kind = \"scatter\",\n",
    "            x = \"longitude\",\n",
    "            y = \"latitude\",\n",
    "            alpha = 0.4, \n",
    "            s = housing[\"population\"] / 100,\n",
    "            label = \"population\",\n",
    "            figsize = (10, 7), \n",
    "            c = \"median_house_value\",\n",
    "            cmap = plt.get_cmap(\"jet\"),\n",
    "            colorbar = True)\n",
    "\n",
    "plt.legend()"
   ]
  },
  {
   "cell_type": "markdown",
   "metadata": {},
   "source": [
    "### Standard Correlation Coefficient (Pearsons' r)\n",
    "Mide la **correlación** entre cada par de atributos del data set. \n",
    "\n",
    "Este valor va de -1 a 1. \n",
    "\n",
    "Cuanto está cerca de 1 indica que hay una fuerte **correlación positiva**.\n",
    "Cuando está cerca de -1 indica una fuerte **correlación negativa**.\n",
    "Cuando está cerca de 0 indica que **no hay correlación linear**."
   ]
  },
  {
   "cell_type": "code",
   "execution_count": 21,
   "metadata": {},
   "outputs": [
    {
     "data": {
      "text/plain": [
       "median_house_value    1.000000\n",
       "median_income         0.687160\n",
       "total_rooms           0.135097\n",
       "housing_median_age    0.114110\n",
       "households            0.064506\n",
       "total_bedrooms        0.047689\n",
       "population           -0.026920\n",
       "longitude            -0.047432\n",
       "latitude             -0.142724\n",
       "Name: median_house_value, dtype: float64"
      ]
     },
     "execution_count": 21,
     "metadata": {},
     "output_type": "execute_result"
    }
   ],
   "source": [
    "corr_matrix = housing.corr()\n",
    "corr_matrix[\"median_house_value\"].sort_values(ascending = False)"
   ]
  },
  {
   "cell_type": "markdown",
   "metadata": {},
   "source": [
    "Como puede verse, el valor más prometedor para predecir el *median_house_value* es el *median_income*."
   ]
  },
  {
   "cell_type": "code",
   "execution_count": 22,
   "metadata": {},
   "outputs": [
    {
     "data": {
      "text/plain": [
       "<AxesSubplot:xlabel='median_income', ylabel='median_house_value'>"
      ]
     },
     "execution_count": 22,
     "metadata": {},
     "output_type": "execute_result"
    },
    {
     "data": {
      "image/png": "[encoded data removed]",
      "text/plain": [
       "<Figure size 432x288 with 1 Axes>"
      ]
     },
     "metadata": {
      "needs_background": "light"
     },
     "output_type": "display_data"
    }
   ],
   "source": [
    "housing.plot(kind = \"scatter\",\n",
    "            x = \"median_income\",\n",
    "            y = \"median_house_value\",\n",
    "            alpha = 0.1)"
   ]
  },
  {
   "cell_type": "markdown",
   "metadata": {},
   "source": [
    "¿Qué vemos en este gráfico?\n",
    "- La correlación es muy fuerte; puedes ver claramente la tendencia al alza y que los puntos no están demasiado dispersos.\n",
    "- El techo de salario es visible (en los 500.000).\n",
    "- Hay algunas *líneas horizontales* más que se pueden distinguir. Por ejemplo alrededor de los 450.000, 350.000 y alrededor de los 280.000. Podemos intentar quitar estos distritos para evitar que los algoritmos de machine learning aprendan de esto como un patrón."
   ]
  },
  {
   "cell_type": "markdown",
   "metadata": {},
   "source": [
    "### ¿Creamos nuevos atributos?\n",
    "Viendo el *Pearson's r*, algunos atributos parecen interesantes, pero no por sí solos sino combindados.\n",
    "\n",
    "Por ejemplo, *housing_rooms* combinado con *households*; *total_bedrooms* con *total_rooms*; *population* por *households*"
   ]
  },
  {
   "cell_type": "code",
   "execution_count": 23,
   "metadata": {},
   "outputs": [],
   "source": [
    "housing[\"rooms_per_household\"] = housing[\"total_rooms\"] / housing[\"households\"]\n",
    "housing[\"bedrooms_per_room\"] = housing[\"total_bedrooms\"] / housing[\"total_rooms\"]\n",
    "housing[\"population_per_household\"] = housing[\"population\"] / housing[\"households\"]"
   ]
  },
  {
   "cell_type": "markdown",
   "metadata": {},
   "source": [
    "Vamos a ver que tal queda la matriz contra *median_house_value*."
   ]
  },
  {
   "cell_type": "code",
   "execution_count": 24,
   "metadata": {},
   "outputs": [
    {
     "data": {
      "text/plain": [
       "median_house_value          1.000000\n",
       "median_income               0.687160\n",
       "rooms_per_household         0.146285\n",
       "total_rooms                 0.135097\n",
       "housing_median_age          0.114110\n",
       "households                  0.064506\n",
       "total_bedrooms              0.047689\n",
       "population_per_household   -0.021985\n",
       "population                 -0.026920\n",
       "longitude                  -0.047432\n",
       "latitude                   -0.142724\n",
       "bedrooms_per_room          -0.259984\n",
       "Name: median_house_value, dtype: float64"
      ]
     },
     "execution_count": 24,
     "metadata": {},
     "output_type": "execute_result"
    }
   ],
   "source": [
    "corr_matrix = housing.corr()\n",
    "corr_matrix[\"median_house_value\"].sort_values(ascending = False)"
   ]
  },
  {
   "cell_type": "markdown",
   "metadata": {},
   "source": [
    "¿Que vemos aquí?\n",
    "- Que el nuevo atributo *bedrooms_per_room* correlaciona más que los campos *total_bedrooms* y *total_rooms* por separado (aparentemente a un ratio menor de bedroom/room la casa es más cara).\n",
    "- El atributo *rooms_per_household* también es más informativo que el *total_rooms* en todo el distrito (esto indica que, obviamente, cuanto más grande es la casa -i.e. más habitaciones-, más cara)."
   ]
  },
  {
   "cell_type": "markdown",
   "metadata": {},
   "source": [
    "## Nota final\n",
    "Estos pasos no son todos los que se pueden hacer, pero si son un buen punto de partida.\n",
    "\n",
    "Este proceso de exploración nos da un *insight* de los datos. Pero no termina aquí, esto es un proceso iterativo. Una vez tenemos un prototipo y vamos conociendo los datos en profundidad podemos volver a la exploración para ver si sacamos más chicha.  "
   ]
  },
  {
   "cell_type": "markdown",
   "metadata": {},
   "source": [
    "# 2) Preparar Datos para los Algoritmos de Machine Learning"
   ]
  },
  {
   "cell_type": "markdown",
   "metadata": {},
   "source": [
    "## Separamos las Labels de las Features"
   ]
  },
  {
   "cell_type": "code",
   "execution_count": 25,
   "metadata": {},
   "outputs": [],
   "source": [
    "housing = strat_train_set.drop(\"median_house_value\", axis = 1)\n",
    "housing_labels = strat_train_set[\"median_house_value\"].copy()"
   ]
  },
  {
   "cell_type": "markdown",
   "metadata": {},
   "source": [
    "## Data Cleaning"
   ]
  },
  {
   "cell_type": "markdown",
   "metadata": {},
   "source": [
    "### Valores Numéricos"
   ]
  },
  {
   "cell_type": "markdown",
   "metadata": {},
   "source": [
    "#### Valores NaN\n",
    "Como vimos antes, el campo *total_bedrooms* le faltan valores. Esto es, tiene valores nulos.\n",
    "\n",
    "Algunos algoritmos de machine learning no funcionan bien con valores nulos.\n",
    "\n",
    "Para solucionar esto hay tres opciones:\n",
    "1. Quitar las filas donde haya campos nulos:\n",
    "\n",
    "    `housing.dropna(subset = [\"total_bedrooms\"])`\n",
    "\n",
    "2. Quitar el atributo *total_bedrooms*:\n",
    "\n",
    "    `housing.drop(\"total_bedrooms\", axis = 1)`\n",
    "\n",
    "3. Asignar valores a los datos NaN (ceros, la media, la mediana, etc.):\n",
    "\n",
    "    `median = housing[\"total_bedrooms\"].median()`\n",
    "\n",
    "    `housing[\"total_bedrooms\"].fillna(median, inplace = True)`\n",
    "\n",
    "    **nota**: si eliges la opción 3 guarda el valor de la mediana en una variable porque lo vas a necesitar más tarde para usarlo en los sets de entrenamiento y de test (para reemplazar los NaN en esos tests). "
   ]
  },
  {
   "cell_type": "markdown",
   "metadata": {},
   "source": [
    "#### Simple Imputer\n",
    "Es una herramienta que nos ayuda a automatizar la limpieza de datos."
   ]
  },
  {
   "cell_type": "code",
   "execution_count": 26,
   "metadata": {},
   "outputs": [],
   "source": [
    "from sklearn.impute import SimpleImputer\n",
    "\n",
    "imputer = SimpleImputer(strategy = \"median\")"
   ]
  },
  {
   "cell_type": "markdown",
   "metadata": {},
   "source": [
    "La *mediana* solo se puede calcular para atributos numéricos, así que hay que quitar los que no lo son (como *ocean_proximity*)."
   ]
  },
  {
   "cell_type": "code",
   "execution_count": 27,
   "metadata": {},
   "outputs": [],
   "source": [
    "housing_num = housing.drop(\"ocean_proximity\", axis = 1)"
   ]
  },
  {
   "cell_type": "code",
   "execution_count": 28,
   "metadata": {},
   "outputs": [],
   "source": [
    "imputer.fit(housing_num)\n",
    "X = imputer.transform(housing_num)\n",
    "\n",
    "# El resultado es un array NumPy. Si queremos transformarlo de nuevo a un pandas DataFrame:\n",
    "housing_tr = pd.DataFrame(X, columns = housing_num.columns, index=housing_num.index)"
   ]
  },
  {
   "cell_type": "markdown",
   "metadata": {},
   "source": [
    "Al calcular las transformaciones con el comando *fit()*, el imputer computa la *mediana* de cada atributo numérico y lo guarda en el atributo *statistics_*:\n",
    "\n",
    "    `imputer.statistics_`\n",
    "\n",
    "**Nota**: El único campo que hemos detectado con valores nulos es *total_bedrooms* pero nada nos garantiza que en los datos de producción aparezcan nulos en otros campos así que es más seguro utilizar un *imputer* sobre *todos* los atributos numéricos."
   ]
  },
  {
   "cell_type": "markdown",
   "metadata": {},
   "source": [
    "### Texto y Atributos Categóricos\n",
    "En este set de datos el único valor que no es numérico es *ocean_proximity*."
   ]
  },
  {
   "cell_type": "code",
   "execution_count": 29,
   "metadata": {},
   "outputs": [
    {
     "data": {
      "text/plain": [
       "ocean_proximity\n",
       "<1H OCEAN          7276\n",
       "INLAND             5263\n",
       "NEAR OCEAN         2124\n",
       "NEAR BAY           1847\n",
       "ISLAND                2\n",
       "dtype: int64"
      ]
     },
     "execution_count": 29,
     "metadata": {},
     "output_type": "execute_result"
    }
   ],
   "source": [
    "housing_cat = housing[[\"ocean_proximity\"]]\n",
    "housing_cat.value_counts()"
   ]
  },
  {
   "cell_type": "markdown",
   "metadata": {},
   "source": [
    "Este campo tiene un número limitado de valores, cada valor representa una categoría. Es un *atributo categórico*.\n",
    "\n",
    "Muchos algoritmos de *machine learning* trabajan mejor con números, así que convertimos estas categorías a números usando *OrdinalEncoder*."
   ]
  },
  {
   "cell_type": "markdown",
   "metadata": {},
   "source": [
    "#### Label Encoding\n",
    "Cada categoría se transforma directamente en un número y se guardan todas en el mismo campo."
   ]
  },
  {
   "cell_type": "code",
   "execution_count": 30,
   "metadata": {},
   "outputs": [
    {
     "data": {
      "text/plain": [
       "array([[0.],\n",
       "       [0.],\n",
       "       [4.],\n",
       "       [1.],\n",
       "       [0.],\n",
       "       [1.],\n",
       "       [0.],\n",
       "       [1.],\n",
       "       [0.],\n",
       "       [0.]])"
      ]
     },
     "execution_count": 30,
     "metadata": {},
     "output_type": "execute_result"
    }
   ],
   "source": [
    "from sklearn.preprocessing import OrdinalEncoder\n",
    "\n",
    "ordinal_encoder = OrdinalEncoder()\n",
    "housing_cat_encoded = ordinal_encoder.fit_transform(housing_cat)\n",
    "housing_cat_encoded[:10]"
   ]
  },
  {
   "cell_type": "markdown",
   "metadata": {},
   "source": [
    "Al igual que con el *Imputer*, la clase *OrdinalEncoder* guarda los cálculos en atributos tras hacer *fit()* o *fit_transform()*. Para acceder al listado de categorías podemos usar el atributo *categories_*."
   ]
  },
  {
   "cell_type": "code",
   "execution_count": 31,
   "metadata": {},
   "outputs": [
    {
     "data": {
      "text/plain": [
       "[array(['<1H OCEAN', 'INLAND', 'ISLAND', 'NEAR BAY', 'NEAR OCEAN'],\n",
       "       dtype=object)]"
      ]
     },
     "execution_count": 31,
     "metadata": {},
     "output_type": "execute_result"
    }
   ],
   "source": [
    "ordinal_encoder.categories_"
   ]
  },
  {
   "cell_type": "markdown",
   "metadata": {},
   "source": [
    "**El problema de *label encoding*** es que funciona bien para categorías que están relacionadas y próximas. \n",
    "\n",
    "Un ejemplo sería las categorías: *bien*, *regular*, *mal* les asignaría valores 0, 1, 2 (por ejemplo).\n",
    "\n",
    "Sin embargo en nuestro ejemplo, a las categorías '<1H OCEAN', 'INLAND', 'ISLAND', 'NEAR BAY', 'NEAR OCEAN', les asignaría valores 0, 1, 2, 3, 4. De modo que las categorías 'ISLAND' y '<1H OCEAN' tendrían valores 0 y 4, alejados, a pesar de que prácticamente son iguales (tener una casa cerca del mar o en una isla). Un algoritmo de *machine learning* puede fijarse en esto como un patrón y liarla en las predicciones."
   ]
  },
  {
   "cell_type": "markdown",
   "metadata": {},
   "source": [
    "#### One Hot Encoding\n",
    "Para cada categoría se crea una columna y se guarda un valor binario (0 o 1) indicando si el campo pertenece a la categoría o no.\n",
    "\n",
    "**Nota**: En el bootcamp utilizamos este método más a menudo. Creo que en general es mejor que *label encoding* a menos que tengamos muchísimas categorías, lo que implica que hay más *features* que entrenar, lo que puede degradar el rendimiento de los algoritmos de *machine learning*."
   ]
  },
  {
   "cell_type": "code",
   "execution_count": 32,
   "metadata": {},
   "outputs": [
    {
     "data": {
      "text/plain": [
       "scipy.sparse.csr.csr_matrix"
      ]
     },
     "execution_count": 32,
     "metadata": {},
     "output_type": "execute_result"
    }
   ],
   "source": [
    "from sklearn.preprocessing import OneHotEncoder\n",
    "\n",
    "cat_encoder = OneHotEncoder()\n",
    "housing_cat_1hot = cat_encoder.fit_transform(housing_cat)\n",
    "\n",
    "type(housing_cat_1hot)"
   ]
  },
  {
   "cell_type": "markdown",
   "metadata": {},
   "source": [
    "**Fíjate** que se trata de un *sparse matrix*. Piensa que si tenemos un montón de categorías, pueden salir matrices con cientos de columnas con valores 1 o 0. Una *sparse matrix* ayuda a ahorrar memoria comprimiendo estas columnas en una sola. \n",
    "\n",
    "Si quieres ver un array normal (aka *denso*) llama al método *toarray()*."
   ]
  },
  {
   "cell_type": "code",
   "execution_count": 33,
   "metadata": {},
   "outputs": [
    {
     "data": {
      "text/plain": [
       "array([[1., 0., 0., 0., 0.],\n",
       "       [1., 0., 0., 0., 0.],\n",
       "       [0., 0., 0., 0., 1.],\n",
       "       [0., 1., 0., 0., 0.],\n",
       "       [1., 0., 0., 0., 0.]])"
      ]
     },
     "execution_count": 33,
     "metadata": {},
     "output_type": "execute_result"
    }
   ],
   "source": [
    "housing_cat_1hot[:5].toarray()"
   ]
  },
  {
   "cell_type": "markdown",
   "metadata": {},
   "source": [
    "Al igual que en *LabelEncoder* podemos acceder al listado de categorías consultando el atributo *categories_*."
   ]
  },
  {
   "cell_type": "code",
   "execution_count": 34,
   "metadata": {},
   "outputs": [
    {
     "data": {
      "text/plain": [
       "[array(['<1H OCEAN', 'INLAND', 'ISLAND', 'NEAR BAY', 'NEAR OCEAN'],\n",
       "       dtype=object)]"
      ]
     },
     "execution_count": 34,
     "metadata": {},
     "output_type": "execute_result"
    }
   ],
   "source": [
    "cat_encoder.categories_"
   ]
  },
  {
   "cell_type": "markdown",
   "metadata": {},
   "source": [
    "## Feature Scaling\n",
    "En general los algoritmos de *machine learning* funcionan mejor con variables numéricas que están en la misma escala.\n",
    "\n",
    "Fíjate que en el ejemplo hay valores como *total_rooms* que va de 6 a 39320 mentras que la *median_income* va de 0.5 a 15 o *median_house_values* que va de 15000 a 500000.\n",
    "\n",
    "Hay dos estrategias para pasar los valores a la misma escala:\n",
    "1. *min-max scaling*. Es el más simple. Pasa valores a un rango (por defecto entre 0 y 1).\n",
    "2. *standardization*. No está restringido a un rango. Es menos sensible a *outliers*. Algunos algoritmos esperan valores dentro de un rango (i.e. generalmente redes neuronales esperan valores de entrada entre 0 y 1), por eso este método no es posible en todos los casos."
   ]
  },
  {
   "cell_type": "markdown",
   "metadata": {},
   "source": [
    "## Custom Transformers\n",
    "Scikit-Learn trae un montón de transformaciones útiles. Pero a veces necesitamos crear alguna transformación específica para desbrozar nuestros datos.\n",
    "\n",
    "Hay que crear una clase que implemente estos métodos:\n",
    "- *fit()*: lo único que hará es devolver el propio objeto (es decir, *self*)\n",
    "- *transform()*\n",
    "- *fit_transform()*\n",
    "\n",
    "Nos podemos ahorrar el trabajo de implementar *fit_transform()* si nuestra clase hereda de *TransformerMixin*.\n",
    "\n",
    "Además, si hereda de *BaseEstimator* (**y también** evitamos \\*args* y \\*\\*kargs) nos ahorramos implementar los métodos *get_params()* y *set_params()*."
   ]
  },
  {
   "cell_type": "code",
   "execution_count": 35,
   "metadata": {},
   "outputs": [
    {
     "data": {
      "text/plain": [
       "array([[-121.89, 37.29, 38.0, 1568.0, 351.0, 710.0, 339.0, 2.7042,\n",
       "        '<1H OCEAN', 4.625368731563422, 2.094395280235988],\n",
       "       [-121.93, 37.05, 14.0, 679.0, 108.0, 306.0, 113.0, 6.4214,\n",
       "        '<1H OCEAN', 6.008849557522124, 2.7079646017699117],\n",
       "       [-117.2, 32.77, 31.0, 1952.0, 471.0, 936.0, 462.0, 2.8621,\n",
       "        'NEAR OCEAN', 4.225108225108225, 2.0259740259740258],\n",
       "       [-119.61, 36.31, 25.0, 1847.0, 371.0, 1460.0, 353.0, 1.8839,\n",
       "        'INLAND', 5.232294617563739, 4.135977337110481],\n",
       "       [-118.59, 34.23, 17.0, 6592.0, 1525.0, 4459.0, 1463.0, 3.0347,\n",
       "        '<1H OCEAN', 4.50580997949419, 3.047846889952153]], dtype=object)"
      ]
     },
     "execution_count": 35,
     "metadata": {},
     "output_type": "execute_result"
    }
   ],
   "source": [
    "from sklearn.base import BaseEstimator, TransformerMixin\n",
    "\n",
    "\n",
    "rooms_ix, bedrooms_ix, population_ix, households_ix = 3, 4, 5, 6\n",
    "\n",
    "\n",
    "class CombinedAttributesAdder(BaseEstimator, TransformerMixin):\n",
    "    \n",
    "    def __init__(self, add_bedrooms_per_room=True): # no *args ni **kargs\n",
    "        self.add_bedrooms_per_room = add_bedrooms_per_room\n",
    "    \n",
    "    def fit(self, X, y = None):\n",
    "        return self # No hay que hacer nada más\n",
    "    \n",
    "    def transform(self, X):\n",
    "        rooms_per_household = X[:, rooms_ix] / X[:, households_ix]\n",
    "        population_per_household = X[:, population_ix] / X[:, households_ix]\n",
    "        if self.add_bedrooms_per_room:\n",
    "            bedrooms_per_room = X[:, bedrooms_ix] / X[:, rooms_ix]\n",
    "            return np.c_[X, rooms_per_household, population_per_household, bedrooms_per_room]\n",
    "        else:\n",
    "            return np.c_[X, rooms_per_household, population_per_household]\n",
    "\n",
    "\n",
    "attr_adder = CombinedAttributesAdder(add_bedrooms_per_room=False)\n",
    "housing_extra_attribs = attr_adder.transform(housing.values)\n",
    "\n",
    "housing_extra_attribs[:5]"
   ]
  },
  {
   "cell_type": "markdown",
   "metadata": {},
   "source": [
    "## Transformation Pipelines\n",
    "Sirven apra automatizar el proceso de transformación de datos y garantizar que siempre se ejecutan en el mismo orden."
   ]
  },
  {
   "cell_type": "code",
   "execution_count": 36,
   "metadata": {},
   "outputs": [],
   "source": [
    "from sklearn.pipeline import Pipeline\n",
    "from sklearn.preprocessing import StandardScaler\n",
    "\n",
    "num_pipeline = Pipeline([\n",
    "    ('imputer', SimpleImputer(strategy = 'median')),\n",
    "    ('custom_combined_attributes_adder', CombinedAttributesAdder()),\n",
    "    ('std_scaler', StandardScaler())\n",
    "])\n",
    "\n",
    "housing_num_tr = num_pipeline.fit_transform(housing_num)"
   ]
  },
  {
   "cell_type": "markdown",
   "metadata": {},
   "source": [
    "Hasta ahora hemos hecho las transformaciones por separado de columnas numéricas y categóricas.\n",
    "\n",
    "¿No sería maravilloso que que se pudiese hacer todo con un solo *pipeline*?\n",
    "\n",
    "Afortunadamente, a partir de *Scikit-Learn* versión 0.20 hay una clase *ColumnTransformer* que nos permite hacer esto."
   ]
  },
  {
   "cell_type": "code",
   "execution_count": 37,
   "metadata": {},
   "outputs": [],
   "source": [
    "from sklearn.compose import ColumnTransformer\n",
    "\n",
    "num_attribs = list(housing_num)\n",
    "cat_attribs = [\"ocean_proximity\"]\n",
    "\n",
    "full_pipeline = ColumnTransformer([\n",
    "    (\"columnas_numericas\", num_pipeline, num_attribs),\n",
    "    (\"columnas_categoricas\", OneHotEncoder(), cat_attribs)\n",
    "])\n",
    "\n",
    "housing_prepared = full_pipeline.fit_transform(housing)"
   ]
  },
  {
   "cell_type": "markdown",
   "metadata": {},
   "source": [
    "Por defecto, en un *ColumnTransformer* las columnas que no aparecen nombradas (en este ejemplo, que no estén en las variables *num_attribs* ni *cat_attribs*) serán *dropeadas*. \n",
    "\n",
    "Alternativamente se puede especificar *passthrough* si queremos que esas columnas queden sin tocar."
   ]
  },
  {
   "cell_type": "markdown",
   "metadata": {},
   "source": [
    "**Importante en todas las Transformaciones** (advertencia página 71 del libro):\n",
    "\n",
    "Hay que hacer *fit()* solo con los datos de entrenamiento (**no** con el set de datos completo).\n",
    "\n",
    "Luego usaremos *.transform()* tanto con los datos de entrenamiento como con los de test (y con datos nuevos)."
   ]
  },
  {
   "cell_type": "markdown",
   "metadata": {},
   "source": [
    "# 3) Select and Train a Model "
   ]
  },
  {
   "cell_type": "markdown",
   "metadata": {},
   "source": [
    "Este es el paso final. Hasta ahora he explorado los datos, extraído una muestra de entrenamiento y otra de test, y para acabar he creado pipelines para limpiar y transformar los datos. \n",
    "\n",
    "Ahora ya tenemos los datos listos en la variable *housing_prepared* para entrenar un modelo de machine learning."
   ]
  },
  {
   "cell_type": "markdown",
   "metadata": {},
   "source": [
    "## Métricas\n",
    "Hay diferentes métricas para medir cómo de buenas las predicciones de un modelo.\n",
    "\n",
    "Vamos a usar la métrica **RMSE** (Error Cuadrático Medio). En resumen: **cuanto más bajo, mejor**. Si es 0 sospecha que es de masiado bueno (casi seguro que hay *overfitting*)."
   ]
  },
  {
   "cell_type": "markdown",
   "metadata": {},
   "source": [
    "## Train Test Split\n",
    "Es la forma típica, cogemos los datos que tenemos y los separamos en un set para entrenamiento y otro set para test."
   ]
  },
  {
   "cell_type": "code",
   "execution_count": 38,
   "metadata": {},
   "outputs": [],
   "source": [
    "from sklearn.model_selection import train_test_split\n",
    "\n",
    "X_train, X_test, y_train, y_test = train_test_split(housing_prepared, housing_labels, test_size=0.2, random_state=42)"
   ]
  },
  {
   "cell_type": "markdown",
   "metadata": {},
   "source": [
    "### Linear Regression"
   ]
  },
  {
   "cell_type": "code",
   "execution_count": 39,
   "metadata": {},
   "outputs": [
    {
     "name": "stdout",
     "output_type": "stream",
     "text": [
      "69392.52359352837\n"
     ]
    }
   ],
   "source": [
    "from sklearn.linear_model import LinearRegression\n",
    "from sklearn.metrics import mean_squared_error\n",
    "\n",
    "# Crear el modelo\n",
    "lin_reg = LinearRegression()\n",
    "\n",
    "# Entrenar el modelo\n",
    "lin_reg.fit(X_train, y_train)\n",
    "\n",
    "# Predicción\n",
    "housing_predictions = lin_reg.predict(X_test)\n",
    "\n",
    "# Evaluar con RMSE:\n",
    "linear_regression_rmse = np.sqrt(mean_squared_error(y_test, housing_predictions))\n",
    "print(linear_regression_rmse)"
   ]
  },
  {
   "cell_type": "markdown",
   "metadata": {},
   "source": [
    "### Decision Tree"
   ]
  },
  {
   "cell_type": "code",
   "execution_count": 40,
   "metadata": {},
   "outputs": [
    {
     "name": "stdout",
     "output_type": "stream",
     "text": [
      "69634.10657693606\n"
     ]
    }
   ],
   "source": [
    "from sklearn.tree import DecisionTreeRegressor\n",
    "from sklearn.metrics import mean_squared_error\n",
    "\n",
    "# Crear el modelo\n",
    "tree_reg = DecisionTreeRegressor()\n",
    "\n",
    "# Entrenar el modelo\n",
    "tree_reg.fit(X_train, y_train)\n",
    "\n",
    "# Predicción\n",
    "housing_predictions = tree_reg.predict(X_test)\n",
    "\n",
    "# Evaluar con RMSE:\n",
    "decission_tree_regression_rmse = np.sqrt(mean_squared_error(y_test, housing_predictions))\n",
    "print(decission_tree_regression_rmse)"
   ]
  },
  {
   "cell_type": "markdown",
   "metadata": {},
   "source": [
    "### Random Forest Regressor"
   ]
  },
  {
   "cell_type": "code",
   "execution_count": 41,
   "metadata": {},
   "outputs": [
    {
     "name": "stdout",
     "output_type": "stream",
     "text": [
      "50695.78042408206\n"
     ]
    }
   ],
   "source": [
    "from sklearn.ensemble import RandomForestRegressor\n",
    "from sklearn.metrics import mean_squared_error\n",
    "\n",
    "# Crear el modelo\n",
    "forest_reg = RandomForestRegressor()\n",
    "\n",
    "# Entrenar el modelo\n",
    "forest_reg.fit(X_train, y_train)\n",
    "\n",
    "# Predicción\n",
    "housing_predictions = forest_reg.predict(X_test)\n",
    "\n",
    "# Evaluar con RMSE:\n",
    "random_forest_regression_rmse = np.sqrt(mean_squared_error(y_test, housing_predictions))\n",
    "print(random_forest_regression_rmse)"
   ]
  },
  {
   "cell_type": "markdown",
   "metadata": {},
   "source": [
    "## Cross-Validation\n",
    "Este proceso hace varias cosas:\n",
    "- Partiendo de los datos limpios originales separa varios sets de datos y de entrenamiento.\n",
    "- Entrena el modelo con cada set de entrenamiento.\n",
    "- Hace predicciones con cada set de test. Evalua esas predicciones con la métrica que queramos.\n",
    "\n",
    "Esto significa que hace el proceso de entrenamiento y test varias veces (normalmente 10 veces, configurado en el parámetro *cv*).\n",
    "\n",
    "La ventaja: al hacer train y predict varias veces con sets de datos diferentes da una idea más acertada de la precisión de un modelo.\n",
    "\n",
    "La desventaja: el coste computacional y el tiempo que supone entrenar un modelo varias veces. "
   ]
  },
  {
   "cell_type": "code",
   "execution_count": 42,
   "metadata": {},
   "outputs": [],
   "source": [
    "from sklearn.model_selection import cross_val_score"
   ]
  },
  {
   "cell_type": "markdown",
   "metadata": {},
   "source": [
    "### Linear Regression"
   ]
  },
  {
   "cell_type": "code",
   "execution_count": 43,
   "metadata": {},
   "outputs": [
    {
     "name": "stdout",
     "output_type": "stream",
     "text": [
      "RMSE Scores de cada CV:  [66755.96633008 66963.15815587 70347.95244419 74765.38357308\n",
      " 68031.13388938 71193.84183426 64961.6747429  68278.4893871\n",
      " 71552.91566558 67665.10082067]\n",
      "RMSE Media: 69051.56168430901\n",
      "RMSE Standard Deviation: 2740.3298244667985\n"
     ]
    }
   ],
   "source": [
    "from sklearn.linear_model import LinearRegression\n",
    "\n",
    "# Crear el modelo\n",
    "lin_reg = LinearRegression()\n",
    "\n",
    "# Cross-validation\n",
    "scores = cross_val_score(lin_reg, housing_prepared, housing_labels, scoring = \"neg_mean_squared_error\", cv = 10)\n",
    "\n",
    "# Evaluar resultados\n",
    "rmse_scores = np.sqrt(-scores) # Este paso hay que hacerlo porque la métrica \"neg_mean_squared_error\" de cross-validation es negativa.\n",
    "\n",
    "print(\"RMSE Scores de cada CV: \", rmse_scores)\n",
    "print(f\"RMSE Media: {rmse_scores.mean()}\")\n",
    "print(f\"RMSE Standard Deviation: {rmse_scores.std()}\")"
   ]
  },
  {
   "cell_type": "markdown",
   "metadata": {},
   "source": [
    "### Decision Tree"
   ]
  },
  {
   "cell_type": "code",
   "execution_count": 44,
   "metadata": {},
   "outputs": [
    {
     "name": "stdout",
     "output_type": "stream",
     "text": [
      "RMSE Scores de cada CV:  [69122.55967548 66659.39874621 69373.25744645 69072.73686129\n",
      " 71228.99424136 76043.35675633 70790.0261536  70183.27490737\n",
      " 76155.17735253 70329.22853948]\n",
      "RMSE Media: 70895.80106801087\n",
      "RMSE Standard Deviation: 2860.8121975967606\n"
     ]
    }
   ],
   "source": [
    "from sklearn.tree import DecisionTreeRegressor\n",
    "\n",
    "# Crear el modelo\n",
    "tree_reg = DecisionTreeRegressor()\n",
    "\n",
    "# Cross-validation\n",
    "scores = cross_val_score(tree_reg, housing_prepared, housing_labels, scoring = \"neg_mean_squared_error\", cv = 10)\n",
    "\n",
    "# Evaluar resultados\n",
    "rmse_scores = np.sqrt(-scores)\n",
    "\n",
    "print(\"RMSE Scores de cada CV: \", rmse_scores) # Este paso hay que hacerlo porque la métrica \"neg_mean_squared_error\" de cross-validation es negativa.\n",
    "print(f\"RMSE Media: {rmse_scores.mean()}\")\n",
    "print(f\"RMSE Standard Deviation: {rmse_scores.std()}\")"
   ]
  },
  {
   "cell_type": "markdown",
   "metadata": {},
   "source": [
    "### Random Forest Regressor"
   ]
  },
  {
   "cell_type": "code",
   "execution_count": 45,
   "metadata": {},
   "outputs": [
    {
     "name": "stdout",
     "output_type": "stream",
     "text": [
      "RMSE Scores de cada CV:  [49595.07364902 47482.26175906 49413.19397127 52119.9179286\n",
      " 49341.30517545 53727.316044   49029.71572238 48266.20140449\n",
      " 53096.16062375 50451.20734828]\n",
      "RMSE Media: 50252.23536262948\n",
      "RMSE Standard Deviation: 1968.9898260131495\n"
     ]
    }
   ],
   "source": [
    "from sklearn.ensemble import RandomForestRegressor\n",
    "\n",
    "# Crear el modelo\n",
    "forest_reg = RandomForestRegressor()\n",
    "\n",
    "# Cross-validation\n",
    "scores = cross_val_score(forest_reg, housing_prepared, housing_labels, scoring = \"neg_mean_squared_error\", cv = 10)\n",
    "\n",
    "# Evaluar resultados\n",
    "rmse_scores = np.sqrt(-scores) # Este paso hay que hacerlo porque la métrica \"neg_mean_squared_error\" de cross-validation es negativa.\n",
    "\n",
    "print(\"RMSE Scores de cada CV: \", rmse_scores)\n",
    "print(f\"RMSE Media: {rmse_scores.mean()}\")\n",
    "print(f\"RMSE Standard Deviation: {rmse_scores.std()}\")"
   ]
  },
  {
   "cell_type": "markdown",
   "metadata": {},
   "source": [
    "## Conclusión\n",
    "Según los datos el mejor es el Random Forest (fíjate en la Standard Deviation).\n",
    "\n",
    "Hay muchos más modelos de machine learning que podemos probar (Support Vector Machines con diferentes kernels, Redes Neuronales, etc.).\n",
    "\n",
    "El objetivo es evaluar una serie de modelos y quedarnos con los que den mejor resultado (entre dos y cinco) antes de entrar en más profundidad a ajustar opciones de entrenamiento e hiperparámetros."
   ]
  },
  {
   "cell_type": "markdown",
   "metadata": {},
   "source": [
    "# 4) Fine-Tune Your Model\n",
    "La idea es probar diferentes parámetros de cada modelo hasta encontrar los que hacen que las predicciones sean más precisas. \n",
    "\n",
    "Este proceso se puede hacer manualmente. El problema es que los hiperparámetros de cada modelo son particulares, esto puede ser tedioso y necesitamos conocer a fondo el modelo para hacerlo bien.\n",
    "\n",
    "Otra opción es automatizar el proceso. Antes hemos visto hacer *cross validation* con el set de datos. Ahora veremos como hacer algo parecido pero con los hiperparámetros.\n",
    "\n",
    "La ventaja de automatizar este proceso es que generalmente obtenemos una selección de parámetros mejor. \n",
    "\n",
    "El problema: el coste computacional de entrenar cada modelo y evaluar las predicciones varias veces."
   ]
  },
  {
   "cell_type": "markdown",
   "metadata": {},
   "source": [
    "## Grid Search CV\n",
    "Le decimos qué hiiperparámetros y las combinaciones de valores para probar."
   ]
  },
  {
   "cell_type": "code",
   "execution_count": 47,
   "metadata": {},
   "outputs": [],
   "source": [
    "from sklearn.ensemble import RandomForestRegressor\n",
    "from sklearn.model_selection import GridSearchCV\n",
    "\n",
    "# Definimos los hiperparámetros que vamos a probar y los posibles valores:\n",
    "hyperparameters_grid = [\n",
    "    {\"n_estimators\": [3, 10, 30], \"max_features\": [2, 4, 6, 8]},\n",
    "    {\"bootstrap\": [False], \"n_estimators\": [3, 10], \"max_features\": [2,3,4]}\n",
    "]\n",
    "\n",
    "# Crear el modelo\n",
    "random_forest_model = RandomForestRegressor()\n",
    "\n",
    "# Probar los hiperparámetros\n",
    "grid_search_results = GridSearchCV(random_forest_model,\n",
    "                                   hyperparameters_grid,\n",
    "                                   cv = 5,\n",
    "                                   scoring = 'neg_mean_squared_error',\n",
    "                                   return_train_score = True)\n"
   ]
  },
  {
   "cell_type": "code",
   "execution_count": 48,
   "metadata": {},
   "outputs": [
    {
     "name": "stdout",
     "output_type": "stream",
     "text": [
      "1min 3s ± 289 ms per loop (mean ± std. dev. of 7 runs, 1 loop each)\n"
     ]
    }
   ],
   "source": [
    "%%timeit\n",
    "grid_search_results.fit(housing_prepared, housing_labels)"
   ]
  },
  {
   "cell_type": "markdown",
   "metadata": {},
   "source": [
    "### Coste Computacional\n",
    "Fíjate que hemos configurado dos sets de parámetros para probar:\n",
    "- el primero con *n_estimators* y *max_features* con *bootstrap* a True (valor por defecto): 3 x 4 = 12 combinaciones.\n",
    "- el segundo con *n_estimators* y *max_features* con *bootstrap* a False: 2 x 3 = 6 combinaciones.\n",
    "\n",
    "En total: 12 + 6 = 18 posibles combinaciones de hiperparámetros del modelo *RandomForestRegressor*.\n",
    "\n",
    "Cada modelo lo va a entrenar 5 veces (parámetro *cv*).\n",
    "\n",
    "**OJO** ¡¡¡En total va a hacer 18 x 5 = 90 rondas de entrenamiento!!!"
   ]
  },
  {
   "cell_type": "markdown",
   "metadata": {},
   "source": [
    "### Resultado"
   ]
  },
  {
   "cell_type": "markdown",
   "metadata": {},
   "source": [
    "#### Solo los parámetros\n",
    "Muestra la combinación de parmámetros que ha obtenido mejor puntuación."
   ]
  },
  {
   "cell_type": "code",
   "execution_count": 49,
   "metadata": {},
   "outputs": [
    {
     "data": {
      "text/plain": [
       "{'max_features': 8, 'n_estimators': 30}"
      ]
     },
     "execution_count": 49,
     "metadata": {},
     "output_type": "execute_result"
    }
   ],
   "source": [
    "grid_search_results.best_params_"
   ]
  },
  {
   "cell_type": "markdown",
   "metadata": {},
   "source": [
    "#### La definición del modelo\n",
    "Esto nos ahorra trabajo, porque nos da directamente el código para crear el modelo."
   ]
  },
  {
   "cell_type": "code",
   "execution_count": 51,
   "metadata": {},
   "outputs": [
    {
     "data": {
      "text/plain": [
       "RandomForestRegressor(max_features=8, n_estimators=30)"
      ]
     },
     "execution_count": 51,
     "metadata": {},
     "output_type": "execute_result"
    }
   ],
   "source": [
    "grid_search_results.best_estimator_"
   ]
  },
  {
   "cell_type": "markdown",
   "metadata": {},
   "source": [
    "#### Evaluación de *scores*\n",
    "Si quieres ver las puntuaciones en las métricas que han obtenido las distintas combinaciones.\n",
    "\n",
    "Recuerda que en nuestro ejemplo solo usamos la métrica RMSE."
   ]
  },
  {
   "cell_type": "code",
   "execution_count": 57,
   "metadata": {},
   "outputs": [
    {
     "name": "stdout",
     "output_type": "stream",
     "text": [
      "Puntuación RMSE: 62830.408939004294. Parametros: {'max_features': 2, 'n_estimators': 3}\n",
      "Puntuación RMSE: 55831.971972703104. Parametros: {'max_features': 2, 'n_estimators': 10}\n",
      "Puntuación RMSE: 52663.60768920843. Parametros: {'max_features': 2, 'n_estimators': 30}\n",
      "Puntuación RMSE: 60951.38027064061. Parametros: {'max_features': 4, 'n_estimators': 3}\n",
      "Puntuación RMSE: 52810.601850502455. Parametros: {'max_features': 4, 'n_estimators': 10}\n",
      "Puntuación RMSE: 50434.15545649609. Parametros: {'max_features': 4, 'n_estimators': 30}\n",
      "Puntuación RMSE: 59835.38712736599. Parametros: {'max_features': 6, 'n_estimators': 3}\n",
      "Puntuación RMSE: 52283.92439334432. Parametros: {'max_features': 6, 'n_estimators': 10}\n",
      "Puntuación RMSE: 50209.407095259885. Parametros: {'max_features': 6, 'n_estimators': 30}\n",
      "Puntuación RMSE: 58076.2596116419. Parametros: {'max_features': 8, 'n_estimators': 3}\n",
      "Puntuación RMSE: 52268.09009493047. Parametros: {'max_features': 8, 'n_estimators': 10}\n",
      "Puntuación RMSE: 49804.32298675176. Parametros: {'max_features': 8, 'n_estimators': 30}\n",
      "Puntuación RMSE: 63232.41037474469. Parametros: {'bootstrap': False, 'max_features': 2, 'n_estimators': 3}\n",
      "Puntuación RMSE: 54334.47812789736. Parametros: {'bootstrap': False, 'max_features': 2, 'n_estimators': 10}\n",
      "Puntuación RMSE: 60215.061186071034. Parametros: {'bootstrap': False, 'max_features': 3, 'n_estimators': 3}\n",
      "Puntuación RMSE: 52352.36157466575. Parametros: {'bootstrap': False, 'max_features': 3, 'n_estimators': 10}\n",
      "Puntuación RMSE: 59553.267798670604. Parametros: {'bootstrap': False, 'max_features': 4, 'n_estimators': 3}\n",
      "Puntuación RMSE: 51778.59119651358. Parametros: {'bootstrap': False, 'max_features': 4, 'n_estimators': 10}\n"
     ]
    }
   ],
   "source": [
    "cvres = grid_search_results.cv_results_\n",
    "\n",
    "for mean_score, params in zip(cvres[\"mean_test_score\"], cvres[\"params\"]):\n",
    "    print(f\"Puntuación RMSE: {np.sqrt(-mean_score)}. Parametros: {params}\")"
   ]
  },
  {
   "cell_type": "markdown",
   "metadata": {},
   "source": [
    "Fíjate que el RMSE de la combinación de parámetros óptima."
   ]
  },
  {
   "cell_type": "markdown",
   "metadata": {},
   "source": [
    "## Randomize Search CV\n",
    "Grid Search está bien si estamos explorando relativamente pocas combinaciones de parámetros.\n",
    "\n",
    "En este caso usamos la clase *RandomizeSearchCV*. \n",
    "\n",
    "La idea es que, en vez de probar todas las posibles combinaciones, seleccionando valores aleatorios para cada hiperparámetro en cada iteración para un número dado de iteraciones.\n",
    "\n",
    "La ventaja de esta aproximación es que explora más valores de hiperparámetros. Por ejemplo, si le damos 1000 iteraciones probará 1000 posibles combinaciones.\n",
    "\n",
    "Desventaja: coste computacional."
   ]
  },
  {
   "cell_type": "markdown",
   "metadata": {},
   "source": [
    "## Conclusión\n",
    "Tenemos dos métodos de probar hiperparámetros para seleccionar una combinación óptima:\n",
    "- GridSearchCV\n",
    "- RandomizeSearchCV\n",
    "\n",
    "En el primero le decimos qué parámetros y qué valores queremos probar, mientras que en el segundo le decimos el número de iteraciones y probará valores aleatorios.\n",
    "\n",
    "Una vez tenemos los parámetros óptimos de entre los que hemos seleccionado, podemos seguir buceando: basándonos en esos valores probar con otros valores para ver si el resultado mejora."
   ]
  },
  {
   "cell_type": "markdown",
   "metadata": {},
   "source": [
    "# 4) Evaluar el Sistema con los datos de Test\n",
    "Aquí es donde usamos la muestra de datos de test que separamos del set principal."
   ]
  },
  {
   "cell_type": "code",
   "execution_count": 61,
   "metadata": {},
   "outputs": [
    {
     "name": "stdout",
     "output_type": "stream",
     "text": [
      "48086.33737769499\n"
     ]
    }
   ],
   "source": [
    "final_model = grid_search_results.best_estimator_\n",
    "\n",
    "X_test = strat_test_set.drop(\"median_house_value\", axis=1)\n",
    "y_test = strat_test_set[\"median_house_value\"].copy()\n",
    "\n",
    "# ¡¡¡OJO!!! no hay que hacer .fit con los datos de test (solo hay que hacer transform)\n",
    "X_test_prepared = full_pipeline.transform(X_test)\n",
    "\n",
    "final_predictions = final_model.predict(X_test_prepared)\n",
    "\n",
    "final_mse = mean_squared_error(y_test, final_predictions)\n",
    "final_rmse = np.sqrt(final_mse)\n",
    "\n",
    "print(final_rmse)"
   ]
  }
 ],
 "metadata": {
  "kernelspec": {
   "display_name": "Python [conda env:homl_venv]",
   "language": "python",
   "name": "conda-env-homl_venv-py"
  },
  "language_info": {
   "codemirror_mode": {
    "name": "ipython",
    "version": 3
   },
   "file_extension": ".py",
   "mimetype": "text/x-python",
   "name": "python",
   "nbconvert_exporter": "python",
   "pygments_lexer": "ipython3",
   "version": "3.8.5"
  }
 },
 "nbformat": 4,
 "nbformat_minor": 4
}
